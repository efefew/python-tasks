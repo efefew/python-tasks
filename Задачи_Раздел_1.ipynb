{
  "cells": [
    {
      "cell_type": "markdown",
      "metadata": {
        "id": "view-in-github",
        "colab_type": "text"
      },
      "source": [
        "<a href=\"https://colab.research.google.com/github/efefew/python-tasks/blob/main/%D0%97%D0%B0%D0%B4%D0%B0%D1%87%D0%B8_%D0%A0%D0%B0%D0%B7%D0%B4%D0%B5%D0%BB_1.ipynb\" target=\"_parent\"><img src=\"https://colab.research.google.com/assets/colab-badge.svg\" alt=\"Open In Colab\"/></a>"
      ]
    },
    {
      "cell_type": "markdown",
      "source": [
        "\n"
      ],
      "metadata": {
        "id": "SaFerfpDxhJq"
      }
    },
    {
      "cell_type": "code",
      "source": [
        "products = [\n",
        " {'name': 'Ноутбук', 'price': 1000},\n",
        " {'name': 'Смартфон', 'price': 500},\n",
        " {'name': 'Планшет', 'price': 300},\n",
        "]\n",
        "minPrice = products[0]['price']\n",
        "name = products[0]['name']\n",
        "for product in products:\n",
        "  if product['price'] < minPrice:\n",
        "    minPrice = product['price']\n",
        "    name = product['name']\n",
        "print(name)"
      ],
      "metadata": {
        "colab": {
          "base_uri": "https://localhost:8080/"
        },
        "id": "N-w7nQf5zFKS",
        "outputId": "4925d953-d8b9-4d5c-d066-5b283db23a7a"
      },
      "execution_count": null,
      "outputs": [
        {
          "output_type": "stream",
          "name": "stdout",
          "text": [
            "Планшет\n"
          ]
        }
      ]
    },
    {
      "cell_type": "code",
      "source": [
        "row = ['ДМБ', 'Россия', 1912, 'криминал', 287, 9.730]\n",
        "print(row[2:5])"
      ],
      "metadata": {
        "id": "-qUvhfsi5sew",
        "outputId": "78f4cf9d-e6cc-48a9-d153-2c9b488502c9",
        "colab": {
          "base_uri": "https://localhost:8080/"
        }
      },
      "execution_count": null,
      "outputs": [
        {
          "output_type": "stream",
          "name": "stdout",
          "text": [
            "[1912, 'криминал', 287]\n"
          ]
        }
      ]
    },
    {
      "cell_type": "code",
      "source": [
        "stalker_info = ['Сталкер', 'СССР', 1979]\n",
        "stalker_info += ['фантастика, драма, детектив',163,8.083]\n",
        "print(stalker_info)"
      ],
      "metadata": {
        "id": "fH0uBfrG6PSv",
        "outputId": "b2aabc67-51f9-499e-e829-00334567afac",
        "colab": {
          "base_uri": "https://localhost:8080/"
        }
      },
      "execution_count": null,
      "outputs": [
        {
          "output_type": "stream",
          "name": "stdout",
          "text": [
            "['Сталкер', 'СССР', 1979, 'фантастика, драма, детектив', 163, 8.083]\n"
          ]
        }
      ]
    },
    {
      "cell_type": "code",
      "source": [
        "# Данные о фильме\n",
        "movie_data = ['Звёздные войны', 'Фантастика', 1977]\n",
        "# Рейтинг фильма\n",
        "rating = [8.7, 'IMDb']\n",
        "movie_data += rating\n",
        "print(movie_data)"
      ],
      "metadata": {
        "id": "To5M8G5Q6_OW",
        "outputId": "a553d5af-8a3b-4dad-f5d9-2ab2fbfde5c2",
        "colab": {
          "base_uri": "https://localhost:8080/"
        }
      },
      "execution_count": null,
      "outputs": [
        {
          "output_type": "stream",
          "name": "stdout",
          "text": [
            "['Звёздные войны', 'Фантастика', 1977, 8.7, 'IMDb']\n"
          ]
        }
      ]
    },
    {
      "cell_type": "code",
      "source": [
        "value = []\n",
        "for id in range(546):\n",
        "  value.append(0)\n",
        "print(value)"
      ],
      "metadata": {
        "id": "Dg3LSh6T7c5Q",
        "outputId": "83dfe4dc-fbe0-44c0-bc02-bbf6c7b899bd",
        "colab": {
          "base_uri": "https://localhost:8080/"
        }
      },
      "execution_count": null,
      "outputs": [
        {
          "output_type": "stream",
          "name": "stdout",
          "text": [
            "[0, 0, 0, 0, 0, 0, 0, 0, 0, 0, 0, 0, 0, 0, 0, 0, 0, 0, 0, 0, 0, 0, 0, 0, 0, 0, 0, 0, 0, 0, 0, 0, 0, 0, 0, 0, 0, 0, 0, 0, 0, 0, 0, 0, 0, 0, 0, 0, 0, 0, 0, 0, 0, 0, 0, 0, 0, 0, 0, 0, 0, 0, 0, 0, 0, 0, 0, 0, 0, 0, 0, 0, 0, 0, 0, 0, 0, 0, 0, 0, 0, 0, 0, 0, 0, 0, 0, 0, 0, 0, 0, 0, 0, 0, 0, 0, 0, 0, 0, 0, 0, 0, 0, 0, 0, 0, 0, 0, 0, 0, 0, 0, 0, 0, 0, 0, 0, 0, 0, 0, 0, 0, 0, 0, 0, 0, 0, 0, 0, 0, 0, 0, 0, 0, 0, 0, 0, 0, 0, 0, 0, 0, 0, 0, 0, 0, 0, 0, 0, 0, 0, 0, 0, 0, 0, 0, 0, 0, 0, 0, 0, 0, 0, 0, 0, 0, 0, 0, 0, 0, 0, 0, 0, 0, 0, 0, 0, 0, 0, 0, 0, 0, 0, 0, 0, 0, 0, 0, 0, 0, 0, 0, 0, 0, 0, 0, 0, 0, 0, 0, 0, 0, 0, 0, 0, 0, 0, 0, 0, 0, 0, 0, 0, 0, 0, 0, 0, 0, 0, 0, 0, 0, 0, 0, 0, 0, 0, 0, 0, 0, 0, 0, 0, 0, 0, 0, 0, 0, 0, 0, 0, 0, 0, 0, 0, 0, 0, 0, 0, 0, 0, 0, 0, 0, 0, 0, 0, 0, 0, 0, 0, 0, 0, 0, 0, 0, 0, 0, 0, 0, 0, 0, 0, 0, 0, 0, 0, 0, 0, 0, 0, 0, 0, 0, 0, 0, 0, 0, 0, 0, 0, 0, 0, 0, 0, 0, 0, 0, 0, 0, 0, 0, 0, 0, 0, 0, 0, 0, 0, 0, 0, 0, 0, 0, 0, 0, 0, 0, 0, 0, 0, 0, 0, 0, 0, 0, 0, 0, 0, 0, 0, 0, 0, 0, 0, 0, 0, 0, 0, 0, 0, 0, 0, 0, 0, 0, 0, 0, 0, 0, 0, 0, 0, 0, 0, 0, 0, 0, 0, 0, 0, 0, 0, 0, 0, 0, 0, 0, 0, 0, 0, 0, 0, 0, 0, 0, 0, 0, 0, 0, 0, 0, 0, 0, 0, 0, 0, 0, 0, 0, 0, 0, 0, 0, 0, 0, 0, 0, 0, 0, 0, 0, 0, 0, 0, 0, 0, 0, 0, 0, 0, 0, 0, 0, 0, 0, 0, 0, 0, 0, 0, 0, 0, 0, 0, 0, 0, 0, 0, 0, 0, 0, 0, 0, 0, 0, 0, 0, 0, 0, 0, 0, 0, 0, 0, 0, 0, 0, 0, 0, 0, 0, 0, 0, 0, 0, 0, 0, 0, 0, 0, 0, 0, 0, 0, 0, 0, 0, 0, 0, 0, 0, 0, 0, 0, 0, 0, 0, 0, 0, 0, 0, 0, 0, 0, 0, 0, 0, 0, 0, 0, 0, 0, 0, 0, 0, 0, 0, 0, 0, 0, 0, 0, 0, 0, 0, 0, 0, 0, 0, 0, 0, 0, 0, 0, 0, 0, 0, 0, 0, 0, 0, 0, 0, 0, 0, 0, 0, 0, 0, 0, 0, 0, 0, 0, 0, 0, 0, 0, 0, 0, 0, 0, 0, 0, 0]\n"
          ]
        }
      ]
    },
    {
      "cell_type": "code",
      "source": [
        "# Список баллов студентов на экзамене\n",
        "exam_scores = [89, 72, 94, 65, 78, 88, 91, 85, 79, 97]\n",
        "exam_scores = sorted(exam_scores,reverse= True)\n",
        "print(exam_scores)"
      ],
      "metadata": {
        "id": "Qo6YhEQN8INg",
        "colab": {
          "base_uri": "https://localhost:8080/"
        },
        "outputId": "4d53aa05-e08d-4430-a0f8-522a8cd48d45"
      },
      "execution_count": null,
      "outputs": [
        {
          "output_type": "stream",
          "name": "stdout",
          "text": [
            "[97, 94, 91, 89, 88, 85, 79, 78, 72, 65]\n"
          ]
        }
      ]
    },
    {
      "cell_type": "code",
      "source": [
        "band_list = ['Энтони Кидис', 'Фли', 'Джон Фрушанте', 'Чад Смит']\n",
        "guitarist_ind = band_list.index('Джон Фрушанте')\n",
        "print(guitarist_ind)"
      ],
      "metadata": {
        "colab": {
          "base_uri": "https://localhost:8080/"
        },
        "id": "8Jp6Zf-nfA6P",
        "outputId": "2dcedb74-9bd1-44a6-af01-991332e17a83"
      },
      "execution_count": null,
      "outputs": [
        {
          "output_type": "stream",
          "name": "stdout",
          "text": [
            "2\n"
          ]
        }
      ]
    },
    {
      "cell_type": "code",
      "source": [
        "lst = ['l', '175', 152, 'y195']\n",
        "for i in lst:\n",
        "  print(i,'\\n')"
      ],
      "metadata": {
        "colab": {
          "base_uri": "https://localhost:8080/"
        },
        "id": "eFexC8J3hy2g",
        "outputId": "f684d0b9-eb5f-4485-8773-6c17991f6e69"
      },
      "execution_count": null,
      "outputs": [
        {
          "output_type": "stream",
          "name": "stdout",
          "text": [
            "l \n",
            "\n",
            "175 \n",
            "\n",
            "152 \n",
            "\n",
            "y195 \n",
            "\n"
          ]
        }
      ]
    },
    {
      "cell_type": "code",
      "source": [
        "for i in range(100):\n",
        "    print('HELPMEIHATESATURDAY')"
      ],
      "metadata": {
        "colab": {
          "base_uri": "https://localhost:8080/"
        },
        "id": "jv8SNSSXiCNK",
        "outputId": "5da331a8-d542-4944-cb47-f049c426b623"
      },
      "execution_count": null,
      "outputs": [
        {
          "output_type": "stream",
          "name": "stdout",
          "text": [
            "HELPMEIHATESATURDAY\n",
            "HELPMEIHATESATURDAY\n",
            "HELPMEIHATESATURDAY\n",
            "HELPMEIHATESATURDAY\n",
            "HELPMEIHATESATURDAY\n",
            "HELPMEIHATESATURDAY\n",
            "HELPMEIHATESATURDAY\n",
            "HELPMEIHATESATURDAY\n",
            "HELPMEIHATESATURDAY\n",
            "HELPMEIHATESATURDAY\n",
            "HELPMEIHATESATURDAY\n",
            "HELPMEIHATESATURDAY\n",
            "HELPMEIHATESATURDAY\n",
            "HELPMEIHATESATURDAY\n",
            "HELPMEIHATESATURDAY\n",
            "HELPMEIHATESATURDAY\n",
            "HELPMEIHATESATURDAY\n",
            "HELPMEIHATESATURDAY\n",
            "HELPMEIHATESATURDAY\n",
            "HELPMEIHATESATURDAY\n",
            "HELPMEIHATESATURDAY\n",
            "HELPMEIHATESATURDAY\n",
            "HELPMEIHATESATURDAY\n",
            "HELPMEIHATESATURDAY\n",
            "HELPMEIHATESATURDAY\n",
            "HELPMEIHATESATURDAY\n",
            "HELPMEIHATESATURDAY\n",
            "HELPMEIHATESATURDAY\n",
            "HELPMEIHATESATURDAY\n",
            "HELPMEIHATESATURDAY\n",
            "HELPMEIHATESATURDAY\n",
            "HELPMEIHATESATURDAY\n",
            "HELPMEIHATESATURDAY\n",
            "HELPMEIHATESATURDAY\n",
            "HELPMEIHATESATURDAY\n",
            "HELPMEIHATESATURDAY\n",
            "HELPMEIHATESATURDAY\n",
            "HELPMEIHATESATURDAY\n",
            "HELPMEIHATESATURDAY\n",
            "HELPMEIHATESATURDAY\n",
            "HELPMEIHATESATURDAY\n",
            "HELPMEIHATESATURDAY\n",
            "HELPMEIHATESATURDAY\n",
            "HELPMEIHATESATURDAY\n",
            "HELPMEIHATESATURDAY\n",
            "HELPMEIHATESATURDAY\n",
            "HELPMEIHATESATURDAY\n",
            "HELPMEIHATESATURDAY\n",
            "HELPMEIHATESATURDAY\n",
            "HELPMEIHATESATURDAY\n",
            "HELPMEIHATESATURDAY\n",
            "HELPMEIHATESATURDAY\n",
            "HELPMEIHATESATURDAY\n",
            "HELPMEIHATESATURDAY\n",
            "HELPMEIHATESATURDAY\n",
            "HELPMEIHATESATURDAY\n",
            "HELPMEIHATESATURDAY\n",
            "HELPMEIHATESATURDAY\n",
            "HELPMEIHATESATURDAY\n",
            "HELPMEIHATESATURDAY\n",
            "HELPMEIHATESATURDAY\n",
            "HELPMEIHATESATURDAY\n",
            "HELPMEIHATESATURDAY\n",
            "HELPMEIHATESATURDAY\n",
            "HELPMEIHATESATURDAY\n",
            "HELPMEIHATESATURDAY\n",
            "HELPMEIHATESATURDAY\n",
            "HELPMEIHATESATURDAY\n",
            "HELPMEIHATESATURDAY\n",
            "HELPMEIHATESATURDAY\n",
            "HELPMEIHATESATURDAY\n",
            "HELPMEIHATESATURDAY\n",
            "HELPMEIHATESATURDAY\n",
            "HELPMEIHATESATURDAY\n",
            "HELPMEIHATESATURDAY\n",
            "HELPMEIHATESATURDAY\n",
            "HELPMEIHATESATURDAY\n",
            "HELPMEIHATESATURDAY\n",
            "HELPMEIHATESATURDAY\n",
            "HELPMEIHATESATURDAY\n",
            "HELPMEIHATESATURDAY\n",
            "HELPMEIHATESATURDAY\n",
            "HELPMEIHATESATURDAY\n",
            "HELPMEIHATESATURDAY\n",
            "HELPMEIHATESATURDAY\n",
            "HELPMEIHATESATURDAY\n",
            "HELPMEIHATESATURDAY\n",
            "HELPMEIHATESATURDAY\n",
            "HELPMEIHATESATURDAY\n",
            "HELPMEIHATESATURDAY\n",
            "HELPMEIHATESATURDAY\n",
            "HELPMEIHATESATURDAY\n",
            "HELPMEIHATESATURDAY\n",
            "HELPMEIHATESATURDAY\n",
            "HELPMEIHATESATURDAY\n",
            "HELPMEIHATESATURDAY\n",
            "HELPMEIHATESATURDAY\n",
            "HELPMEIHATESATURDAY\n",
            "HELPMEIHATESATURDAY\n",
            "HELPMEIHATESATURDAY\n"
          ]
        }
      ]
    },
    {
      "cell_type": "code",
      "source": [
        "marks = [90, 85, 83, 92]\n",
        "total = 0\n",
        "for i in range(len(marks)):\n",
        "    total += i\n",
        "print(total)"
      ],
      "metadata": {
        "colab": {
          "base_uri": "https://localhost:8080/"
        },
        "id": "Cy-eL2EAiQaz",
        "outputId": "10a721ac-4032-4eb2-923f-ab4b5df54283"
      },
      "execution_count": null,
      "outputs": [
        {
          "output_type": "stream",
          "name": "stdout",
          "text": [
            "6\n"
          ]
        }
      ]
    },
    {
      "cell_type": "code",
      "source": [
        "fact = 1\n",
        "for i in range(13-1):\n",
        "    fact *= (i+1)\n",
        "print(fact)"
      ],
      "metadata": {
        "colab": {
          "base_uri": "https://localhost:8080/"
        },
        "id": "MjiVoe5hieHW",
        "outputId": "b5128787-ed73-4a9c-c36b-f0eb69ec00af"
      },
      "execution_count": null,
      "outputs": [
        {
          "output_type": "stream",
          "name": "stdout",
          "text": [
            "479001600\n"
          ]
        }
      ]
    },
    {
      "cell_type": "code",
      "source": [
        "movies_table = [\n",
        "    ['Побег из Шоушенка', 'США', 1994, 'драма', 142, 9.111],\n",
        "    ['Крёстный отец', 'США', 1972, 'драма, криминал', 175, 8.730],\n",
        "    ['Тёмный рыцарь', 'США', 2008, 'фантастика, боевик, триллер', 152, 8.499],\n",
        "    ['Список Шиндлера', 'США', 1993, 'драма', 195, 8.818],\n",
        "    ['Властелин колец: Возвращение Короля', 'Новая Зеландия', 2003, 'фэнтези, приключения, драма', 201, 8.625],\n",
        "    ['Криминальное чтиво', 'США', 1994, 'триллер, комедия, криминал', 154, 8.619],\n",
        "    ['Хороший, плохой, злой', 'Италия', 1966, 'вестерн', 178, 8.521],\n",
        "    ['Бойцовский клуб', 'США', 1999, 'триллер, драма, криминал', 139, 8.644],\n",
        "    ['Харакири', 'Япония', 1962, 'драма, боевик, история', 133, 8.106],\n",
        "    ['Сталкер', 'СССР', 1979, 'фантастика, драма, детектив', 163, 8.083],\n",
        "    ['Иди и смотри', 'СССР', 1985, 'драма, военный', 136, 8.094]\n",
        "]\n",
        "for element in movies_table:\n",
        "    if element.count('Сталкер') > 0:\n",
        "      print('страна производства фильма «Сталкер» = ',element[1])\n",
        "    if element.count('Криминальное чтиво') > 0:\n",
        "      print('год выхода фильма «Криминальное чтиво» = ',element[2])\n",
        "    if element.count('Крёстный отец') > 0:\n",
        "      print('рейтинг фильма «Крёстный отец» = ',element[5])\n"
      ],
      "metadata": {
        "colab": {
          "base_uri": "https://localhost:8080/"
        },
        "id": "hLdOlnN9i52T",
        "outputId": "2424699c-bede-4a8d-cc1e-0f4c855cf72b"
      },
      "execution_count": null,
      "outputs": [
        {
          "output_type": "stream",
          "name": "stdout",
          "text": [
            "рейтинг фильма «Крёстный отец» =  8.73\n",
            "год выхода фильма «Криминальное чтиво» =  1994\n",
            "страна производства фильма «Сталкер» =  СССР\n"
          ]
        }
      ]
    },
    {
      "cell_type": "code",
      "source": [
        "movies_table = [\n",
        "    ['Побег из Шоушенка', 'США', 1994, 'драма', 142, 9.111],\n",
        "    ['Крёстный отец', 'США', 1972, 'драма, криминал', 175, 8.730],\n",
        "    ['Тёмный рыцарь', 'США', 2008, 'фантастика, боевик, триллер', 152, 8.499],\n",
        "    ['Список Шиндлера', 'США', 1993, 'драма', 195, 8.818],\n",
        "    ['Властелин колец: Возвращение Короля', 'Новая Зеландия', 2003, 'фэнтези, приключения, драма', 201, 8.625],\n",
        "    ['Криминальное чтиво', 'США', 1994, 'триллер, комедия, криминал', 154, 8.619],\n",
        "    ['Хороший, плохой, злой', 'Италия', 1966, 'вестерн', 178, 8.521],\n",
        "    ['Бойцовский клуб', 'США', 1999, 'триллер, драма, криминал', 139, 8.644],\n",
        "    ['Харакири', 'Япония', 1962, 'драма, боевик, история', 133, 8.106],\n",
        "    ['Сталкер', 'СССР', 1979, 'фантастика, драма, детектив', 163, 8.083],\n",
        "    ['Иди и смотри', 'СССР', 1985, 'драма, военный', 136, 8.094]\n",
        "]\n",
        "for element in movies_table:\n",
        "  print(element[3])"
      ],
      "metadata": {
        "colab": {
          "base_uri": "https://localhost:8080/"
        },
        "id": "cOZHfrxzl09O",
        "outputId": "d611e44e-dfb5-4599-d712-3adc20e1d169"
      },
      "execution_count": null,
      "outputs": [
        {
          "output_type": "stream",
          "name": "stdout",
          "text": [
            "драма\n",
            "драма, криминал\n",
            "фантастика, боевик, триллер\n",
            "драма\n",
            "фэнтези, приключения, драма\n",
            "триллер, комедия, криминал\n",
            "вестерн\n",
            "триллер, драма, криминал\n",
            "драма, боевик, история\n",
            "фантастика, драма, детектив\n",
            "драма, военный\n"
          ]
        }
      ]
    },
    {
      "cell_type": "code",
      "source": [
        "movies_table = [\n",
        "    ['Побег из Шоушенка', 'США', 1994, 'драма', 142, 9.111],\n",
        "    ['Крёстный отец', 'США', 1972, 'драма, криминал', 175, 8.730],\n",
        "    ['Тёмный рыцарь', 'США', 2008, 'фантастика, боевик, триллер', 152, 8.499],\n",
        "    ['Список Шиндлера', 'США', 1993, 'драма', 195, 8.818],\n",
        "    ['Властелин колец: Возвращение Короля', 'Новая Зеландия', 2003, 'фэнтези, приключения, драма', 201, 8.625],\n",
        "    ['Криминальное чтиво', 'США', 1994, 'триллер, комедия, криминал', 154, 8.619],\n",
        "    ['Хороший, плохой, злой', 'Италия', 1966, 'вестерн', 178, 8.521],\n",
        "    ['Бойцовский клуб', 'США', 1999, 'триллер, драма, криминал', 139, 8.644],\n",
        "    ['Харакири', 'Япония', 1962, 'драма, боевик, история', 133, 8.106],\n",
        "    ['Сталкер', 'СССР', 1979, 'фантастика, драма, детектив', 163, 8.083],\n",
        "    ['Иди и смотри', 'СССР', 1985, 'драма, военный', 136, 8.094]\n",
        "]\n",
        "for element in movies_table:\n",
        "  print(element[2])"
      ],
      "metadata": {
        "colab": {
          "base_uri": "https://localhost:8080/"
        },
        "id": "SSGPFi_tmESw",
        "outputId": "cecfe11e-eb2e-4cec-e825-f98b76602cbe"
      },
      "execution_count": null,
      "outputs": [
        {
          "output_type": "stream",
          "name": "stdout",
          "text": [
            "1994\n",
            "1972\n",
            "2008\n",
            "1993\n",
            "2003\n",
            "1994\n",
            "1966\n",
            "1999\n",
            "1962\n",
            "1979\n",
            "1985\n"
          ]
        }
      ]
    },
    {
      "cell_type": "code",
      "source": [
        "field = [['X', 'X', 'O'],\n",
        "         ['O', 'X', 'O'],\n",
        "         ['O', 'X', 'X']]\n",
        "for line in field:\n",
        "    print(line[0], ' ', line[1], ' ', line[2])"
      ],
      "metadata": {
        "colab": {
          "base_uri": "https://localhost:8080/"
        },
        "id": "_414Yu84mLRS",
        "outputId": "6b381722-32b3-49c5-c9ee-381399a9049b"
      },
      "execution_count": null,
      "outputs": [
        {
          "output_type": "stream",
          "name": "stdout",
          "text": [
            "X   X   O\n",
            "O   X   O\n",
            "O   X   X\n"
          ]
        }
      ]
    },
    {
      "cell_type": "code",
      "source": [
        "sales_info = [\n",
        "    ['центральный', 12210],\n",
        "    ['западный', 7612],\n",
        "    ['восточный', 8110],\n",
        "    ['южный', 5720],\n",
        "    ['северный', 9798]\n",
        "]\n",
        "total = 0\n",
        "for element in sales_info:\n",
        "  total += element[1]\n",
        "print(total)"
      ],
      "metadata": {
        "colab": {
          "base_uri": "https://localhost:8080/"
        },
        "id": "3-DTLdlHmql-",
        "outputId": "488a920b-56ea-43a3-ad06-38c4bd649f1a"
      },
      "execution_count": null,
      "outputs": [
        {
          "output_type": "stream",
          "name": "stdout",
          "text": [
            "43450\n"
          ]
        }
      ]
    },
    {
      "cell_type": "code",
      "source": [
        "movies_table = [\n",
        "    ['Побег из Шоушенка', 'США', 1994, 'драма', 142, 9.111],\n",
        "    ['Крёстный отец', 'США', 1972, 'драма, криминал', 175, 8.730],\n",
        "    ['Тёмный рыцарь', 'США', 2008, 'фантастика, боевик, триллер', 152, 8.499],\n",
        "    ['Список Шиндлера', 'США', 1993, 'драма', 195, 8.818],\n",
        "    ['Властелин колец: Возвращение Короля', 'Новая Зеландия', 2003, 'фэнтези, приключения, драма', 201, 8.625],\n",
        "    ['Криминальное чтиво', 'США', 1994, 'триллер, комедия, криминал', 154, 8.619],\n",
        "    ['Хороший, плохой, злой', 'Италия', 1966, 'вестерн', 178, 8.521],\n",
        "    ['Бойцовский клуб', 'США', 1999, 'триллер, драма, криминал', 139, 8.644],\n",
        "    ['Харакири', 'Япония', 1962, 'драма, боевик, история', 133, 8.106],\n",
        "    ['Сталкер', 'СССР', 1979, 'фантастика, драма, детектив', 163, 8.083],\n",
        "    ['Иди и смотри', 'СССР', 1985, 'драма, военный', 136, 8.094]\n",
        "]\n",
        "total = 0\n",
        "for element in movies_table:\n",
        "  total += element[5]\n",
        "print(total)"
      ],
      "metadata": {
        "colab": {
          "base_uri": "https://localhost:8080/"
        },
        "id": "pW0IToW7nB5A",
        "outputId": "9a0a6c28-ec33-4406-9d46-92701a14a76b"
      },
      "execution_count": null,
      "outputs": [
        {
          "output_type": "stream",
          "name": "stdout",
          "text": [
            "93.85\n"
          ]
        }
      ]
    },
    {
      "cell_type": "code",
      "source": [
        "movies_table = [\n",
        "    ['Побег из Шоушенка', 'США', 1994, 'драма', 142, 9.111],\n",
        "    ['Крёстный отец', 'США', 1972, 'драма, криминал', 175, 8.730],\n",
        "    ['Тёмный рыцарь', 'США', 2008, 'фантастика, боевик, триллер', 152, 8.499],\n",
        "    ['Список Шиндлера', 'США', 1993, 'драма', 195, 8.818],\n",
        "    ['Властелин колец: Возвращение Короля', 'Новая Зеландия', 2003, 'фэнтези, приключения, драма', 201, 8.625],\n",
        "    ['Криминальное чтиво', 'США', 1994, 'триллер, комедия, криминал', 154, 8.619],\n",
        "    ['Хороший, плохой, злой', 'Италия', 1966, 'вестерн', 178, 8.521],\n",
        "    ['Бойцовский клуб', 'США', 1999, 'триллер, драма, криминал', 139, 8.644],\n",
        "    ['Харакири', 'Япония', 1962, 'драма, боевик, история', 133, 8.106],\n",
        "    ['Сталкер', 'СССР', 1979, 'фантастика, драма, детектив', 163, 8.083],\n",
        "    ['Иди и смотри', 'СССР', 1985, 'драма, военный', 136, 8.094]\n",
        "]\n",
        "for element in movies_table:\n",
        "  element.append('полнометражный')\n",
        "print(movies_table)"
      ],
      "metadata": {
        "colab": {
          "base_uri": "https://localhost:8080/"
        },
        "id": "T5qFbnfmnZnc",
        "outputId": "170898e9-ea6d-4e01-8b84-a0912ede76ed"
      },
      "execution_count": null,
      "outputs": [
        {
          "output_type": "stream",
          "name": "stdout",
          "text": [
            "[['Побег из Шоушенка', 'США', 1994, 'драма', 142, 9.111, 'полнометражный'], ['Крёстный отец', 'США', 1972, 'драма, криминал', 175, 8.73, 'полнометражный'], ['Тёмный рыцарь', 'США', 2008, 'фантастика, боевик, триллер', 152, 8.499, 'полнометражный'], ['Список Шиндлера', 'США', 1993, 'драма', 195, 8.818, 'полнометражный'], ['Властелин колец: Возвращение Короля', 'Новая Зеландия', 2003, 'фэнтези, приключения, драма', 201, 8.625, 'полнометражный'], ['Криминальное чтиво', 'США', 1994, 'триллер, комедия, криминал', 154, 8.619, 'полнометражный'], ['Хороший, плохой, злой', 'Италия', 1966, 'вестерн', 178, 8.521, 'полнометражный'], ['Бойцовский клуб', 'США', 1999, 'триллер, драма, криминал', 139, 8.644, 'полнометражный'], ['Харакири', 'Япония', 1962, 'драма, боевик, история', 133, 8.106, 'полнометражный'], ['Сталкер', 'СССР', 1979, 'фантастика, драма, детектив', 163, 8.083, 'полнометражный'], ['Иди и смотри', 'СССР', 1985, 'драма, военный', 136, 8.094, 'полнометражный']]\n"
          ]
        }
      ]
    },
    {
      "cell_type": "code",
      "source": [
        "movies_table = [\n",
        "    ['Побег из Шоушенка', 'США', 1994, 'драма', 142, 9.111],\n",
        "    ['Крёстный отец', 'США', 1972, 'драма, криминал', 175, 8.730],\n",
        "    ['Тёмный рыцарь', 'США', 2008, 'фантастика, боевик, триллер', 152, 8.499],\n",
        "    ['Список Шиндлера', 'США', 1993, 'драма', 195, 8.818],\n",
        "    ['Властелин колец: Возвращение Короля', 'Новая Зеландия', 2003, 'фэнтези, приключения, драма', 201, 8.625],\n",
        "    ['Криминальное чтиво', 'США', 1994, 'триллер, комедия, криминал', 154, 8.619],\n",
        "    ['Хороший, плохой, злой', 'Италия', 1966, 'вестерн', 178, 8.521],\n",
        "    ['Бойцовский клуб', 'США', 1999, 'триллер, драма, криминал', 139, 8.644],\n",
        "    ['Харакири', 'Япония', 1962, 'драма, боевик, история', 133, 8.106],\n",
        "    ['Сталкер', 'СССР', 1979, 'фантастика, драма, детектив', 163, 8.083],\n",
        "    ['Иди и смотри', 'СССР', 1985, 'драма, военный', 136, 8.094]\n",
        "]\n",
        "for element in movies_table:\n",
        "  element.append('смотрел')\n",
        "print(movies_table)"
      ],
      "metadata": {
        "colab": {
          "base_uri": "https://localhost:8080/"
        },
        "id": "McR1nZ8vnsHt",
        "outputId": "a5c11c9f-ad37-4970-922a-45c90e2446c5"
      },
      "execution_count": null,
      "outputs": [
        {
          "output_type": "stream",
          "name": "stdout",
          "text": [
            "[['Побег из Шоушенка', 'США', 1994, 'драма', 142, 9.111, 'смотрел'], ['Крёстный отец', 'США', 1972, 'драма, криминал', 175, 8.73, 'смотрел'], ['Тёмный рыцарь', 'США', 2008, 'фантастика, боевик, триллер', 152, 8.499, 'смотрел'], ['Список Шиндлера', 'США', 1993, 'драма', 195, 8.818, 'смотрел'], ['Властелин колец: Возвращение Короля', 'Новая Зеландия', 2003, 'фэнтези, приключения, драма', 201, 8.625, 'смотрел'], ['Криминальное чтиво', 'США', 1994, 'триллер, комедия, криминал', 154, 8.619, 'смотрел'], ['Хороший, плохой, злой', 'Италия', 1966, 'вестерн', 178, 8.521, 'смотрел'], ['Бойцовский клуб', 'США', 1999, 'триллер, драма, криминал', 139, 8.644, 'смотрел'], ['Харакири', 'Япония', 1962, 'драма, боевик, история', 133, 8.106, 'смотрел'], ['Сталкер', 'СССР', 1979, 'фантастика, драма, детектив', 163, 8.083, 'смотрел'], ['Иди и смотри', 'СССР', 1985, 'драма, военный', 136, 8.094, 'смотрел']]\n"
          ]
        }
      ]
    },
    {
      "cell_type": "code",
      "source": [
        "movies_table = [\n",
        "    ['Побег из Шоушенка', 'США', 1994, 'драма', 142, 9.111],\n",
        "    ['Крёстный отец', 'США', 1972, 'драма, криминал', 175, 8.730],\n",
        "    ['Тёмный рыцарь', 'США', 2008, 'фантастика, боевик, триллер', 152, 8.499],\n",
        "    ['Список Шиндлера', 'США', 1993, 'драма', 195, 8.818],\n",
        "    ['Властелин колец: Возвращение Короля', 'Новая Зеландия', 2003, 'фэнтези, приключения, драма', 201, 8.625],\n",
        "    ['Криминальное чтиво', 'США', 1994, 'триллер, комедия, криминал', 154, 8.619],\n",
        "    ['Хороший, плохой, злой', 'Италия', 1966, 'вестерн', 178, 8.521],\n",
        "    ['Бойцовский клуб', 'США', 1999, 'триллер, драма, криминал', 139, 8.644],\n",
        "    ['Харакири', 'Япония', 1962, 'драма, боевик, история', 133, 8.106],\n",
        "    ['Непосредственно Каха', 'СССР', 1979, 'фантастика, драма, детектив', 163, 8.083],\n",
        "    ['Сталкер', 'СССР', 1979, 'фантастика, драма, детектив', 163, 8.083],\n",
        "     ['ДМБ', 'Россия', 1912, 'криминал', 287, 9.730],\n",
        "    ['Иди и смотри', 'СССР', 1985, 'драма, военный', 136, 8.094]\n",
        "]\n",
        "for element in movies_table:\n",
        "    if element.count('Непосредственно Каха') > 0:\n",
        "      if element[5] > 8.5:\n",
        "        print('Высокий рейтинг')\n",
        "      else:\n",
        "        print('Обычный рейтинг')"
      ],
      "metadata": {
        "colab": {
          "base_uri": "https://localhost:8080/"
        },
        "id": "aXztSnF9n5aE",
        "outputId": "721cf461-947b-4060-b4c1-7e804fbc9ded"
      },
      "execution_count": null,
      "outputs": [
        {
          "output_type": "stream",
          "name": "stdout",
          "text": [
            "Обычный рейтинг\n"
          ]
        }
      ]
    },
    {
      "cell_type": "code",
      "source": [
        "movies_table = [\n",
        "    ['Побег из Шоушенка', 'США', 1994, 'драма', 142, 9.111],\n",
        "    ['Крёстный отец', 'США', 1972, 'драма, криминал', 175, 8.730],\n",
        "    ['Тёмный рыцарь', 'США', 2008, 'фантастика, боевик, триллер', 152, 8.499],\n",
        "    ['Список Шиндлера', 'США', 1993, 'драма', 195, 8.818],\n",
        "    ['Властелин колец: Возвращение Короля', 'Новая Зеландия', 2003, 'фэнтези, приключения, драма', 201, 8.625],\n",
        "    ['Криминальное чтиво', 'США', 1994, 'триллер, комедия, криминал', 154, 8.619],\n",
        "    ['Хороший, плохой, злой', 'Италия', 1966, 'вестерн', 178, 8.521],\n",
        "    ['Бойцовский клуб', 'США', 1999, 'триллер, драма, криминал', 139, 8.644],\n",
        "    ['Харакири', 'Япония', 1962, 'драма, боевик, история', 133, 8.106],\n",
        "    ['Непосредственно Каха', 'СССР', 1979, 'фантастика, драма, детектив', 163, 8.083],\n",
        "    ['Сталкер', 'СССР', 1979, 'фантастика, драма, детектив', 163, 8.083],\n",
        "     ['ДМБ', 'Россия', 1912, 'криминал', 287, 9.730],\n",
        "    ['Иди и смотри', 'СССР', 1985, 'драма, военный', 136, 8.094]\n",
        "]\n",
        "for element in movies_table:\n",
        "    if element.count('Непосредственно Каха') > 0:\n",
        "      if element[2] > 2000:\n",
        "        print('Я уже мог его посмотреть')\n",
        "      else:\n",
        "        print('Я еще не родился')"
      ],
      "metadata": {
        "colab": {
          "base_uri": "https://localhost:8080/"
        },
        "id": "jI2v3qxTos1Y",
        "outputId": "bd360368-1cc8-42ea-c42c-337ff21114f5"
      },
      "execution_count": null,
      "outputs": [
        {
          "output_type": "stream",
          "name": "stdout",
          "text": [
            "Я еще не родился\n"
          ]
        }
      ]
    },
    {
      "cell_type": "code",
      "source": [
        "movies_table = [\n",
        "    ['Побег из Шоушенка', 'США', 1994, 'драма', 142, 9.111],\n",
        "    ['Крёстный отец', 'США', 1972, 'драма, криминал', 175, 8.730],\n",
        "    ['Тёмный рыцарь', 'США', 2008, 'фантастика, боевик, триллер', 152, 8.499],\n",
        "    ['Список Шиндлера', 'США', 1993, 'драма', 195, 8.818],\n",
        "    ['Властелин колец: Возвращение Короля', 'Новая Зеландия', 2003, 'фэнтези, приключения, драма', 201, 8.625],\n",
        "    ['Криминальное чтиво', 'США', 1994, 'триллер, комедия, криминал', 154, 8.619],\n",
        "    ['Хороший, плохой, злой', 'Италия', 1966, 'вестерн', 178, 8.521],\n",
        "    ['Бойцовский клуб', 'США', 1999, 'триллер, драма, криминал', 139, 8.644],\n",
        "    ['Харакири', 'Япония', 1962, 'драма, боевик, история', 133, 8.106],\n",
        "    ['Сталкер', 'СССР', 1979, 'фантастика, драма, детектив', 163, 8.083],\n",
        "    ['Иди и смотри', 'СССР', 1985, 'драма, военный', 136, 8.094]\n",
        "]\n",
        "def filter_func(el):\n",
        "    if el[5] > 8.6:\n",
        "        return True\n",
        "    else:\n",
        "        return False\n",
        "movies_filtered = filter(filter_func, movies_table)\n",
        "for element in movies_filtered:\n",
        "        print(element)\n"
      ],
      "metadata": {
        "colab": {
          "base_uri": "https://localhost:8080/"
        },
        "id": "JnLBfdUcpIWE",
        "outputId": "0cbda9dc-adc9-4a60-a7d5-7b3d0d53c359"
      },
      "execution_count": null,
      "outputs": [
        {
          "output_type": "stream",
          "name": "stdout",
          "text": [
            "['Побег из Шоушенка', 'США', 1994, 'драма', 142, 9.111]\n",
            "['Крёстный отец', 'США', 1972, 'драма, криминал', 175, 8.73]\n",
            "['Список Шиндлера', 'США', 1993, 'драма', 195, 8.818]\n",
            "['Властелин колец: Возвращение Короля', 'Новая Зеландия', 2003, 'фэнтези, приключения, драма', 201, 8.625]\n",
            "['Криминальное чтиво', 'США', 1994, 'триллер, комедия, криминал', 154, 8.619]\n",
            "['Бойцовский клуб', 'США', 1999, 'триллер, драма, криминал', 139, 8.644]\n"
          ]
        }
      ]
    },
    {
      "cell_type": "code",
      "source": [
        "movies_table = [\n",
        "    ['Побег из Шоушенка', 'США', 1994, 'драма', 142, 9.111],\n",
        "    ['Крёстный отец', 'США', 1972, 'драма, криминал', 175, 8.730],\n",
        "    ['Тёмный рыцарь', 'США', 2008, 'фантастика, боевик, триллер', 152, 8.499],\n",
        "    ['Список Шиндлера', 'США', 1993, 'драма', 195, 8.818],\n",
        "    ['Властелин колец: Возвращение Короля', 'Новая Зеландия', 2003, 'фэнтези, приключения, драма', 201, 8.625],\n",
        "    ['Криминальное чтиво', 'США', 1994, 'триллер, комедия, криминал', 154, 8.619],\n",
        "    ['Хороший, плохой, злой', 'Италия', 1966, 'вестерн', 178, 8.521],\n",
        "    ['Бойцовский клуб', 'США', 1999, 'триллер, драма, криминал', 139, 8.644],\n",
        "    ['Харакири', 'Япония', 1962, 'драма, боевик, история', 133, 8.106],\n",
        "    ['Сталкер', 'СССР', 1979, 'фантастика, драма, детектив', 163, 8.083],\n",
        "    ['Иди и смотри', 'СССР', 1985, 'драма, военный', 136, 8.094]\n",
        "]\n",
        "thrillers_count = 0\n",
        "for element in movies_table:\n",
        "    if element[3].__contains__('триллер'):\n",
        "      thrillers_count+=1\n",
        "print(thrillers_count)"
      ],
      "metadata": {
        "colab": {
          "base_uri": "https://localhost:8080/"
        },
        "id": "f7wzERxKqXxK",
        "outputId": "12601304-7a89-49cb-f7bc-4735f0eb0b32"
      },
      "execution_count": null,
      "outputs": [
        {
          "output_type": "stream",
          "name": "stdout",
          "text": [
            "3\n"
          ]
        }
      ]
    },
    {
      "cell_type": "code",
      "source": [
        "from random import randint\n",
        "\n",
        "capacity = 1000 # грузоподъёмность лифта\n",
        "total_weight = 0 # переменная для суммарного веса\n",
        "\n",
        "while total_weight < capacity: # пока суммарный вес меньше грузоподъёмности лифта\n",
        "    person_weight = randint(30, 120) # генерируется случайное целое число от 30 до 120\n",
        "    total_weight += person_weight # сгенерированный вес добавляется к суммарному весу\n",
        "\n",
        "print(f'А всё уже, всё уже! Лифт заполнен! Раньше надо было! Загруженность: {total_weight}')"
      ],
      "metadata": {
        "colab": {
          "base_uri": "https://localhost:8080/"
        },
        "id": "WdN8Y43LsSeo",
        "outputId": "67e1b05a-5bdb-475a-fa45-a9c430650649"
      },
      "execution_count": null,
      "outputs": [
        {
          "output_type": "stream",
          "name": "stdout",
          "text": [
            "А всё уже, всё уже! Лифт заполнен! Раньше надо было! Загруженность: 1074\n"
          ]
        }
      ]
    },
    {
      "cell_type": "code",
      "source": [
        "import sys\n",
        "movies_table = [\n",
        "    ['Побег из Шоушенка', 'США', 1994, 'драма', 142, 9.111],\n",
        "    ['Крёстный отец', 'США', 1972, 'драма, криминал', 175, 8.730],\n",
        "    ['Тёмный рыцарь', 'США', 2008, 'фантастика, боевик, триллер', 152, 8.499],\n",
        "    ['Список Шиндлера', 'США', 1993, 'драма', 195, 8.818],\n",
        "    ['Властелин колец: Возвращение Короля', 'Новая Зеландия', 2003, 'фэнтези, приключения, драма', 201, 8.625],\n",
        "    ['Криминальное чтиво', 'США', 1994, 'триллер, комедия, криминал', 154, 8.619],\n",
        "    ['Хороший, плохой, злой', 'Италия', 1966, 'вестерн', 178, 8.521],\n",
        "    ['Бойцовский клуб', 'США', 1999, 'триллер, драма, криминал', 139, 8.644],\n",
        "    ['Харакири', 'Япония', 1962, 'драма, боевик, история', 133, 8.106],\n",
        "    ['Сталкер', 'СССР', 1979, 'фантастика, драма, детектив', 163, 8.083],\n",
        "    ['Иди и смотри', 'СССР', 1985, 'драма, военный', 136, 8.094]\n",
        "]\n",
        "count = 0\n",
        "summ = 0\n",
        "for element in movies_table:\n",
        "  summ+=element[5]\n",
        "  count+=1\n",
        "print('Средний рейтинг фильмов: ', summ/count)\n",
        "\n",
        "max_time = 0\n",
        "for element in movies_table:\n",
        "    if element[4] > max_time:\n",
        "      max_time=element[4]\n",
        "print('Фильм с самым длинным временем: ', max_time)\n",
        "\n",
        "genre = input(\"Введите жанр фильма: \")\n",
        "for element in movies_table:\n",
        "    if element[3].__contains__(genre):\n",
        "      print('Фильм жанра ',genre,': ', element)\n",
        "\n",
        "print('Фильмы 90-х годов:')\n",
        "for element in movies_table:\n",
        "  if element[2] >= 1990 and element[2] <= 1999:\n",
        "    print(element)\n",
        "\n",
        "print('Фильмы с самым высоким и самым низким рейтингом:')\n",
        "max = 0\n",
        "min = 10\n",
        "max_element = None\n",
        "min_element = None\n",
        "for element in movies_table:\n",
        "    if element[5] > max:\n",
        "      max_element = element\n",
        "      max=element[5]\n",
        "    if element[5] < min:\n",
        "      min_element = element\n",
        "      min=element[5]\n",
        "print(max_element)\n",
        "print(min_element)\n",
        "\n",
        "print('Страны-производители:')\n",
        "countries = []\n",
        "for element in movies_table:\n",
        "  if countries.count(element[1]) == 0:\n",
        "    countries.append(element[1])\n",
        "print(countries)\n",
        "\n",
        "print('Сортировка по году выпуска:')\n",
        "sort_movies_table = sorted(movies_table, key=lambda movie: movie[2])\n",
        "for element in sort_movies_table:\n",
        "  print(element)\n",
        "\n",
        "print('Средний рейтинг фильмов определенной страны:')\n",
        "count_country = 0\n",
        "summ_country = 0\n",
        "country = input(\"Страна: \")\n",
        "for element in movies_table:\n",
        "    if element[1] == country:\n",
        "      summ_country+=element[5]\n",
        "      count_country+=1\n",
        "if count_country == 0:\n",
        "  print('Средний рейтинг фильмов ', country,' отсутствует')\n",
        "else:\n",
        "  print('Средний рейтинг фильмов ', country,': ', summ_country/count_country)\n",
        "\n",
        "print('Фильмы с наибольшей и наименьшей продолжительностью:')\n",
        "max = -sys.maxsize\n",
        "min = sys.maxsize\n",
        "max_element = None\n",
        "min_element = None\n",
        "for element in movies_table:\n",
        "    if element[4] > max:\n",
        "      max_element = element\n",
        "      max=element[4]\n",
        "    if element[4] < min:\n",
        "      min_element = element\n",
        "      min=element[4]\n",
        "print(max_element)\n",
        "print(min_element)\n",
        "\n",
        "print('Фильмы с рейтингом выше среднего:')\n",
        "for element in movies_table:\n",
        "  if element[5] > summ/count:\n",
        "    print(element)"
      ],
      "metadata": {
        "colab": {
          "base_uri": "https://localhost:8080/"
        },
        "id": "ItgilTToseeX",
        "outputId": "b218fc58-e137-4e9a-dadb-f4ac869667a1"
      },
      "execution_count": null,
      "outputs": [
        {
          "output_type": "stream",
          "name": "stdout",
          "text": [
            "Средний рейтинг фильмов:  8.531818181818181\n",
            "Фильм с самым длинным временем:  201\n",
            "Введите жанр фильма: драма\n",
            "Фильм жанра  драма :  ['Побег из Шоушенка', 'США', 1994, 'драма', 142, 9.111]\n",
            "Фильм жанра  драма :  ['Крёстный отец', 'США', 1972, 'драма, криминал', 175, 8.73]\n",
            "Фильм жанра  драма :  ['Список Шиндлера', 'США', 1993, 'драма', 195, 8.818]\n",
            "Фильм жанра  драма :  ['Властелин колец: Возвращение Короля', 'Новая Зеландия', 2003, 'фэнтези, приключения, драма', 201, 8.625]\n",
            "Фильм жанра  драма :  ['Бойцовский клуб', 'США', 1999, 'триллер, драма, криминал', 139, 8.644]\n",
            "Фильм жанра  драма :  ['Харакири', 'Япония', 1962, 'драма, боевик, история', 133, 8.106]\n",
            "Фильм жанра  драма :  ['Сталкер', 'СССР', 1979, 'фантастика, драма, детектив', 163, 8.083]\n",
            "Фильм жанра  драма :  ['Иди и смотри', 'СССР', 1985, 'драма, военный', 136, 8.094]\n",
            "Фильмы 90-х годов:\n",
            "['Побег из Шоушенка', 'США', 1994, 'драма', 142, 9.111]\n",
            "['Список Шиндлера', 'США', 1993, 'драма', 195, 8.818]\n",
            "['Криминальное чтиво', 'США', 1994, 'триллер, комедия, криминал', 154, 8.619]\n",
            "['Бойцовский клуб', 'США', 1999, 'триллер, драма, криминал', 139, 8.644]\n",
            "Фильмы с самым высоким и самым низким рейтингом:\n",
            "['Побег из Шоушенка', 'США', 1994, 'драма', 142, 9.111]\n",
            "['Сталкер', 'СССР', 1979, 'фантастика, драма, детектив', 163, 8.083]\n",
            "Страны-производители:\n",
            "['США', 'Новая Зеландия', 'Италия', 'Япония', 'СССР']\n",
            "Сортировка по году выпуска:\n",
            "['Харакири', 'Япония', 1962, 'драма, боевик, история', 133, 8.106]\n",
            "['Хороший, плохой, злой', 'Италия', 1966, 'вестерн', 178, 8.521]\n",
            "['Крёстный отец', 'США', 1972, 'драма, криминал', 175, 8.73]\n",
            "['Сталкер', 'СССР', 1979, 'фантастика, драма, детектив', 163, 8.083]\n",
            "['Иди и смотри', 'СССР', 1985, 'драма, военный', 136, 8.094]\n",
            "['Список Шиндлера', 'США', 1993, 'драма', 195, 8.818]\n",
            "['Побег из Шоушенка', 'США', 1994, 'драма', 142, 9.111]\n",
            "['Криминальное чтиво', 'США', 1994, 'триллер, комедия, криминал', 154, 8.619]\n",
            "['Бойцовский клуб', 'США', 1999, 'триллер, драма, криминал', 139, 8.644]\n",
            "['Властелин колец: Возвращение Короля', 'Новая Зеландия', 2003, 'фэнтези, приключения, драма', 201, 8.625]\n",
            "['Тёмный рыцарь', 'США', 2008, 'фантастика, боевик, триллер', 152, 8.499]\n",
            "Средний рейтинг фильмов определенной страны:\n",
            "Страна: США\n",
            "Средний рейтинг фильмов  США :  8.736833333333333\n",
            "Фильмы с наибольшей и наименьшей продолжительностью:\n",
            "['Властелин колец: Возвращение Короля', 'Новая Зеландия', 2003, 'фэнтези, приключения, драма', 201, 8.625]\n",
            "['Харакири', 'Япония', 1962, 'драма, боевик, история', 133, 8.106]\n",
            "Фильмы с рейтингом выше среднего:\n",
            "['Побег из Шоушенка', 'США', 1994, 'драма', 142, 9.111]\n",
            "['Крёстный отец', 'США', 1972, 'драма, криминал', 175, 8.73]\n",
            "['Список Шиндлера', 'США', 1993, 'драма', 195, 8.818]\n",
            "['Властелин колец: Возвращение Короля', 'Новая Зеландия', 2003, 'фэнтези, приключения, драма', 201, 8.625]\n",
            "['Криминальное чтиво', 'США', 1994, 'триллер, комедия, криминал', 154, 8.619]\n",
            "['Бойцовский клуб', 'США', 1999, 'триллер, драма, криминал', 139, 8.644]\n"
          ]
        }
      ]
    },
    {
      "cell_type": "markdown",
      "source": [
        "**Задача №1**"
      ],
      "metadata": {
        "id": "rmpupgfX36PG"
      }
    },
    {
      "cell_type": "code",
      "source": [
        "def list_into_sublists(n, in_list):\n",
        "  sublists = [in_list[i:i+n] for i in range(0, len(in_list), n)]\n",
        "  for element in sublists:\n",
        "    print(element)\n",
        "list_into_sublists(3,[4,5,6,3,543,9,59,70,42,64,143])"
      ],
      "metadata": {
        "colab": {
          "base_uri": "https://localhost:8080/"
        },
        "id": "J8fOdGIVyURD",
        "outputId": "e54f9845-7c6c-46e6-8884-f6f7d395cf7d"
      },
      "execution_count": null,
      "outputs": [
        {
          "output_type": "stream",
          "name": "stdout",
          "text": [
            "[4, 5, 6]\n",
            "[3, 543, 9]\n",
            "[59, 70, 42]\n",
            "[64, 143]\n"
          ]
        }
      ]
    },
    {
      "cell_type": "markdown",
      "source": [
        "**Задача №2**"
      ],
      "metadata": {
        "id": "e-A_ttw59WSV"
      }
    },
    {
      "cell_type": "code",
      "source": [
        "def spiral(n, m):\n",
        "    dx, dy = 1, 0\n",
        "    x, y = n-1, 0\n",
        "    matrix = [[None] * m for _ in range(n)]\n",
        "    for i in range(1, n*m+1):\n",
        "        matrix[x][y] = i\n",
        "        nx, ny = x-dx, y+dy\n",
        "        if 0 <= nx < n and 0 <= ny < m and not matrix[nx][ny]:\n",
        "            x, y = nx, ny\n",
        "        else:\n",
        "            dx, dy = -dy, dx\n",
        "            x, y = x-dx, y+dy\n",
        "    for x in list(zip(*matrix)):\n",
        "        print(*x)\n",
        "\n",
        "spiral(3,4)"
      ],
      "metadata": {
        "colab": {
          "base_uri": "https://localhost:8080/"
        },
        "id": "fTN1Q69D9Ya7",
        "outputId": "a08ce4f8-7a15-48f8-f28d-37b581cc56f9"
      },
      "execution_count": null,
      "outputs": [
        {
          "output_type": "stream",
          "name": "stdout",
          "text": [
            "3 2 1\n",
            "4 11 10\n",
            "5 12 9\n",
            "6 7 8\n"
          ]
        }
      ]
    },
    {
      "cell_type": "markdown",
      "source": [
        "**Задача №3**"
      ],
      "metadata": {
        "id": "w2CaiYYvCTkz"
      }
    },
    {
      "cell_type": "code",
      "source": [
        "def ball(n, k):\n",
        "  people = [i+1 for i in range(n)]\n",
        "  while len(people) > 1:\n",
        "    people.remove(people[ k%len(people)-1 if k > len(people) else (k-1)])\n",
        "  print(people)\n",
        "for i in range(1, 10):\n",
        "  ball(i,7)"
      ],
      "metadata": {
        "colab": {
          "base_uri": "https://localhost:8080/"
        },
        "id": "119oq_Y6CTLm",
        "outputId": "c403b4bd-3c2d-4eca-c827-0e1c6d242b8d"
      },
      "execution_count": null,
      "outputs": [
        {
          "output_type": "stream",
          "name": "stdout",
          "text": [
            "[1]\n",
            "[2]\n",
            "[3]\n",
            "[4]\n",
            "[5]\n",
            "[6]\n",
            "[6]\n",
            "[6]\n",
            "[6]\n"
          ]
        }
      ]
    },
    {
      "cell_type": "markdown",
      "source": [
        "**Задача №4**"
      ],
      "metadata": {
        "id": "FilaltAjP0tc"
      }
    },
    {
      "cell_type": "code",
      "source": [
        "def magic_square(matrix):\n",
        "  summ_line = sum(matrix[0])\n",
        "  n = len(matrix)\n",
        "  if n != len(matrix[0]):\n",
        "    return False\n",
        "  for i in range(1, n):\n",
        "    if sum(matrix[i]) != summ_line:\n",
        "      return False\n",
        "\n",
        "  for j in range(n):\n",
        "    summ = 0\n",
        "    for i in range(n):\n",
        "      summ += matrix[i][j]\n",
        "    if summ != summ_line:\n",
        "      return False\n",
        "\n",
        "  summ = 0\n",
        "  for i in range(n):\n",
        "    summ += matrix[i][i]\n",
        "  if summ != summ_line:\n",
        "    return False\n",
        "\n",
        "  summ = 0\n",
        "  for i in range(n):\n",
        "    summ += matrix[n - i - 1][i]\n",
        "  if summ != summ_line:\n",
        "    return False\n",
        "  return True\n",
        "def print_check_matrix(matrix):\n",
        "  if magic_square(matrix):\n",
        "    print(\"можно считать матрицу магическим квадратом\")\n",
        "  else:\n",
        "    print(\"нельзя считать матрицу магическим квадратом\")\n",
        "magic_matrix = [[17,24,1,8,15],\n",
        "                [23,5,7,14,16],\n",
        "                [4,6,13,20,22],\n",
        "                [10,12,19,21,3],\n",
        "                [11,18,25,2,9]]\n",
        "not_magic_matrix = [[3,3,3],\n",
        "                    [2,2,2],\n",
        "                    [1,2,3]]\n",
        "print_check_matrix(magic_matrix)\n",
        "print_check_matrix(not_magic_matrix)"
      ],
      "metadata": {
        "colab": {
          "base_uri": "https://localhost:8080/"
        },
        "id": "n4AlgCGxREuf",
        "outputId": "637c8872-bbbb-4d54-a73b-41a5bc3d031a"
      },
      "execution_count": null,
      "outputs": [
        {
          "output_type": "stream",
          "name": "stdout",
          "text": [
            "можно считать матрицу магическим квадратом\n",
            "нельзя считать матрицу магическим квадратом\n"
          ]
        }
      ]
    },
    {
      "cell_type": "markdown",
      "source": [
        "**Задача №5**"
      ],
      "metadata": {
        "id": "lpGDYA43WQD4"
      }
    },
    {
      "cell_type": "code",
      "source": [
        "def smallest_common_multiple(a, b):\n",
        " greater = a if a > b else b\n",
        " while(True):\n",
        "   if((greater % a == 0) and(greater % b == 0)):\n",
        "      LCM = greater\n",
        "      break\n",
        "   greater += 1\n",
        " return LCM\n",
        "smallest_common_multiple(113,344)"
      ],
      "metadata": {
        "colab": {
          "base_uri": "https://localhost:8080/"
        },
        "id": "pJwLVpbqWT9p",
        "outputId": "cc25537c-6229-490c-bcd6-b33a80755fe4"
      },
      "execution_count": null,
      "outputs": [
        {
          "output_type": "execute_result",
          "data": {
            "text/plain": [
              "38872"
            ]
          },
          "metadata": {},
          "execution_count": 188
        }
      ]
    },
    {
      "cell_type": "markdown",
      "source": [
        "**Задача №6**"
      ],
      "metadata": {
        "id": "_U7qva_zX7bM"
      }
    },
    {
      "cell_type": "code",
      "source": [
        "def latin_square(matrix):\n",
        "  n = len(matrix)\n",
        "  for i in range(n):\n",
        "      if sorted(matrix[i]) != list(range(1, n + 1)) or sorted([matrix[j][i] for j in range(n)]) != list(range(1, n + 1)):\n",
        "          return False\n",
        "  return True\n",
        "def print_check_matrix(matrix):\n",
        "  if latin_square(matrix):\n",
        "    print(\"можно считать матрицу латинским квадратом\")\n",
        "  else:\n",
        "    print(\"нельзя считать матрицу латинским квадратом\")\n",
        "m = [[1,2,3],\n",
        "     [2,3,1],\n",
        "     [3,1,2]]\n",
        "print_check_matrix(m)"
      ],
      "metadata": {
        "colab": {
          "base_uri": "https://localhost:8080/"
        },
        "id": "z1BfYxbMYODt",
        "outputId": "fe615c9a-0c00-47eb-8704-4ea064cc57c1"
      },
      "execution_count": null,
      "outputs": [
        {
          "output_type": "stream",
          "name": "stdout",
          "text": [
            "можно считать матрицу латинским квадратом\n"
          ]
        }
      ]
    }
  ],
  "metadata": {
    "colab": {
      "provenance": [],
      "include_colab_link": true
    },
    "kernelspec": {
      "display_name": "Python 3",
      "name": "python3"
    }
  },
  "nbformat": 4,
  "nbformat_minor": 0
}